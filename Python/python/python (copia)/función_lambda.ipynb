{
 "cells": [
  {
   "cell_type": "markdown",
   "metadata": {},
   "source": [
    "# Funciones\n",
    "**Cursos de Udemy:** \n",
    "   * Python desde cero hasta analísis estadísticos con Pandas y Numpy.\n",
    "   * Toma de decisión usando la tecnología disponible."
   ]
  },
  {
   "cell_type": "markdown",
   "metadata": {},
   "source": [
    "# Funciones"
   ]
  },
  {
   "cell_type": "code",
   "execution_count": null,
   "metadata": {},
   "outputs": [],
   "source": [
    "#función lanzamiento de dado\n",
    "import random as r\n",
    "\n",
    "def lanzamiento_dado(scadena):\n",
    "    dado=(r.choice(range(1,7)))\n",
    "    print(scadena,\"desde la función\")\n",
    "    return dado"
   ]
  },
  {
   "cell_type": "code",
   "execution_count": null,
   "metadata": {},
   "outputs": [],
   "source": [
    "print(\"el numero de lanzar un dado:\",lanzamiento_dado(\"Hola\")) #llamamos a la función"
   ]
  },
  {
   "cell_type": "code",
   "execution_count": null,
   "metadata": {},
   "outputs": [],
   "source": [
    "#función calculadora\n",
    "def calcular(operación, valor1, valor2):\n",
    "    calculo=0\n",
    "    if(operación=='suma'):\n",
    "        calculo=valor1+valor2\n",
    "    elif(operación=='resta'):\n",
    "        calculo=valor1-valor2\n",
    "    elif(operación=='multiplicación' or operación=='multiplicacion'):\n",
    "        calculo=valor1*valor2\n",
    "    elif((operación=='división' or operación=='division')and valor2!=0):\n",
    "        calculo=valor1/valor2   \n",
    "    return calculo"
   ]
  },
  {
   "cell_type": "code",
   "execution_count": null,
   "metadata": {},
   "outputs": [],
   "source": [
    "#llamado a la función calculadora\n",
    "print('la resta de 12-3 es',calcular('resta', 12, 3))\n",
    "print('la suma de 12+5 es',calcular('suma', 12, 5))"
   ]
  },
  {
   "cell_type": "code",
   "execution_count": null,
   "metadata": {},
   "outputs": [],
   "source": [
    "def secundario():\n",
    "    return \"Desde secundario!\"\n",
    "    \n",
    "def principal():\n",
    "    print(\"Desde principal!\")\n",
    "\n",
    "if __name__== \"__main__\":\n",
    "    print('desde main',secundario())\n",
    "    print(\"curso ***\")"
   ]
  },
  {
   "cell_type": "code",
   "execution_count": null,
   "metadata": {},
   "outputs": [],
   "source": [
    "print(secundario())"
   ]
  },
  {
   "cell_type": "code",
   "execution_count": null,
   "metadata": {},
   "outputs": [],
   "source": [
    "principal()"
   ]
  },
  {
   "cell_type": "code",
   "execution_count": null,
   "metadata": {},
   "outputs": [],
   "source": [
    "globvar = 10\n",
    "\n",
    "def variable_local():\n",
    "    \n",
    "    globvar = 1\n",
    "    print(globvar)\n",
    "\n",
    "def variable_global():\n",
    "    print(globvar)     \n",
    "\n",
    "def modificar_variable_global():\n",
    "    global globvar\n",
    "    globvar =33\n",
    "    print(globvar)\n",
    "    \n",
    "variable_local()\n",
    "variable_global() \n",
    "globvar=22\n",
    "variable_global()   \n",
    "modificar_variable_global()"
   ]
  },
  {
   "cell_type": "code",
   "execution_count": null,
   "metadata": {},
   "outputs": [],
   "source": [
    "variable_global()   \n"
   ]
  },
  {
   "cell_type": "markdown",
   "metadata": {},
   "source": [
    "# Función Lambda"
   ]
  },
  {
   "cell_type": "markdown",
   "metadata": {},
   "source": [
    "Las funciones lambda son funciones anónimas y pequeñas que usualmente no tienen más que una línea. Puede tener cualquier tipo de argumentos al igual que una función normal. "
   ]
  },
  {
   "cell_type": "code",
   "execution_count": null,
   "metadata": {},
   "outputs": [],
   "source": [
    "#una función definida normalmente como triplicar\n",
    "\n",
    "def triplicar2(x):\n",
    "     return x * 3\n",
    "\n",
    "\n",
    "#como funcion lambda se simplifica a una linea\n",
    "triplicar = lambda x: x * 3"
   ]
  },
  {
   "cell_type": "code",
   "execution_count": null,
   "metadata": {},
   "outputs": [],
   "source": [
    "#llamada a la función lambda triplicar\n",
    "print(triplicar(3))"
   ]
  },
  {
   "cell_type": "code",
   "execution_count": null,
   "metadata": {},
   "outputs": [],
   "source": [
    "print(triplicar(2))"
   ]
  },
  {
   "cell_type": "code",
   "execution_count": null,
   "metadata": {},
   "outputs": [],
   "source": [
    "#una función definida normalmente como suma\n",
    "\"\"\" \n",
    "def suma(x,y):\n",
    "     return x + y\n",
    "\"\"\"\n",
    "\n",
    "#como funcion lambda se simplifica a una linea\n",
    "suma = lambda x, y : x + y"
   ]
  },
  {
   "cell_type": "code",
   "execution_count": null,
   "metadata": {},
   "outputs": [],
   "source": [
    "print(suma(12,13))"
   ]
  },
  {
   "cell_type": "code",
   "execution_count": null,
   "metadata": {},
   "outputs": [],
   "source": [
    "#una función definida normalmente como mayor\n",
    "\"\"\" \n",
    "def mayor(x,y):\n",
    "    if(x>y):\n",
    "        return x\n",
    "    else:\n",
    "        return y\n",
    "\"\"\"\n",
    "\n",
    "#como funcion lambda se simplifica a una linea\n",
    "mayor = lambda x, y : x if x > y else y"
   ]
  },
  {
   "cell_type": "code",
   "execution_count": null,
   "metadata": {},
   "outputs": [],
   "source": [
    "print(mayor(10,3))"
   ]
  },
  {
   "cell_type": "code",
   "execution_count": null,
   "metadata": {},
   "outputs": [],
   "source": [
    "# mayor_de_tres=lambda x,y,z:max((x,y,z))\n",
    "mayor_de_tres = lambda x, y, z: x if x > y and x > z else (y if y > z else z)"
   ]
  },
  {
   "cell_type": "code",
   "execution_count": null,
   "metadata": {},
   "outputs": [],
   "source": [
    "print(mayor_de_tres(10,30,15))"
   ]
  },
  {
   "cell_type": "markdown",
   "metadata": {},
   "source": [
    "# map "
   ]
  },
  {
   "cell_type": "code",
   "execution_count": null,
   "metadata": {},
   "outputs": [],
   "source": [
    "#Función Lambda\n",
    "cuadrado = lambda x: x**2\n",
    "\n",
    "#función\n",
    "def cuadrada(x):\n",
    "    return x*x\n",
    "\n",
    "#map\n",
    "items = [1, 2, 3, 4, 5]\n",
    "squared = list(map(cuadrada, items))\n",
    "print((squared))"
   ]
  },
  {
   "cell_type": "code",
   "execution_count": null,
   "metadata": {},
   "outputs": [],
   "source": [
    "items = [1, 2, 3, 4, 5]\n",
    "squared = list(map(lambda x: x**2, items))#la funcion lambda puede estar dentro de map\n",
    "print(squared)"
   ]
  },
  {
   "cell_type": "code",
   "execution_count": null,
   "metadata": {},
   "outputs": [],
   "source": [
    "def cuadrado(x):\n",
    "        return (x**2)\n",
    "def cubo(x):\n",
    "        return (x**3)\n",
    "def diferencia(x):\n",
    "    return (x**3-x**2)\n",
    "\n",
    "funciones = [cuadrado, cubo, diferencia] #cuando hay una lista de funciones\n",
    "for r in range(12):\n",
    "    value = map(lambda x: x(r), funciones)\n",
    "    print(list(value))"
   ]
  },
  {
   "cell_type": "code",
   "execution_count": null,
   "metadata": {},
   "outputs": [],
   "source": [
    "#pueden usarse varios parametros\n",
    "def mult(a, b):\n",
    "     return a * b\n",
    "\n",
    "list(map(mult, [1, 2, 3, 4], [5, 6, 7, 8]))"
   ]
  },
  {
   "cell_type": "markdown",
   "metadata": {},
   "source": [
    "# filter"
   ]
  },
  {
   "cell_type": "code",
   "execution_count": null,
   "metadata": {},
   "outputs": [],
   "source": [
    "#de la lista solo dejar los pares\n",
    "lista_entrada= list(range(1,20))\n",
    "print('entrada:',list(lista_entrada ))\n",
    "lista_pares = filter(lambda x: x%2==0, lista_entrada)\n",
    "print('salida:',list(lista_pares ))"
   ]
  },
  {
   "cell_type": "code",
   "execution_count": null,
   "metadata": {},
   "outputs": [],
   "source": [
    "\"\"\"\n",
    "print (list([x for x in a if x in b]))\n",
    "\"\"\"\n",
    "#hacer una lista que de las dos listas contenga los valores comunes en ambas listas\n",
    "a = [1,4,3,10,7,9, 2,21,100]\n",
    "b = [4,3,10,6,7,8, 100]\n",
    "print(list( filter(lambda x: x in a, b) ))"
   ]
  },
  {
   "cell_type": "markdown",
   "metadata": {},
   "source": [
    "# reduce"
   ]
  },
  {
   "cell_type": "code",
   "execution_count": 1,
   "metadata": {},
   "outputs": [
    {
     "name": "stdout",
     "output_type": "stream",
     "text": [
      "15\n"
     ]
    }
   ],
   "source": [
    "from functools import reduce as reducir\n",
    "resultado = reducir((lambda x, y: x + y), [1, 2, 3, 4,5])\n",
    "print(resultado)"
   ]
  },
  {
   "cell_type": "code",
   "execution_count": 2,
   "metadata": {},
   "outputs": [
    {
     "data": {
      "text/plain": [
       "15"
      ]
     },
     "execution_count": 2,
     "metadata": {},
     "output_type": "execute_result"
    }
   ],
   "source": [
    "def suma(x,y):\n",
    "        return x+y\n",
    "reducir(suma, range(1, 6))"
   ]
  },
  {
   "cell_type": "code",
   "execution_count": null,
   "metadata": {},
   "outputs": [],
   "source": []
  }
 ],
 "metadata": {
  "kernelspec": {
   "display_name": "Python 3",
   "language": "python",
   "name": "python3"
  },
  "language_info": {
   "codemirror_mode": {
    "name": "ipython",
    "version": 3
   },
   "file_extension": ".py",
   "mimetype": "text/x-python",
   "name": "python",
   "nbconvert_exporter": "python",
   "pygments_lexer": "ipython3",
   "version": "3.6.7"
  }
 },
 "nbformat": 4,
 "nbformat_minor": 2
}

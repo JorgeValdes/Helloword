{
 "cells": [
  {
   "cell_type": "markdown",
   "metadata": {},
   "source": [
    "# Operadores\n",
    "**Cursos de Udemy:** \n",
    "   * Python desde cero hasta analísis estadísticos con Pandas y Numpy.\n",
    "   * Toma de decisión usando la tecnología disponible."
   ]
  },
  {
   "cell_type": "markdown",
   "metadata": {},
   "source": [
    "# En este apartado veremos los siguientes tipos de operadores.\n",
    "\n",
    "    Aritméticos\n",
    "    Relacionales o comparación\n",
    "    Asignación\n",
    "    Lógicos\n",
    "    in (membresía)\n",
    "    is (identidad)\n",
    "\n",
    "  "
   ]
  },
  {
   "cell_type": "markdown",
   "metadata": {},
   "source": [
    "# Aritméticos"
   ]
  },
  {
   "cell_type": "code",
   "execution_count": null,
   "metadata": {},
   "outputs": [],
   "source": [
    "valor1=13\n",
    "valor2=5\n",
    "\n",
    "#suma\n",
    "print('suma',valor1+valor2)\n",
    "\n",
    "#resta\n",
    "print('resta',valor1-valor2)\n",
    "\n",
    "#multiplicación\n",
    "print('producto',valor1*valor2)\n",
    "\n",
    "#división\n",
    "print('división',valor1/valor2)\n",
    "\n"
   ]
  },
  {
   "cell_type": "code",
   "execution_count": null,
   "metadata": {},
   "outputs": [],
   "source": [
    "#division  redondea hacia abajo\n",
    "print('división redondeo piso',valor1//valor2)\n",
    "\n"
   ]
  },
  {
   "cell_type": "code",
   "execution_count": null,
   "metadata": {},
   "outputs": [],
   "source": [
    "print(valor1%valor2)"
   ]
  },
  {
   "cell_type": "code",
   "execution_count": null,
   "metadata": {},
   "outputs": [],
   "source": [
    "#residuo de una division\n",
    "valor1=15\n",
    "valor2=7\n",
    "print(valor1,'dividido', valor2, 'redondeado hacia abajo es', valor1//valor2, \n",
    "      '\\nY', valor1,'menos (' ,valor2,'multiplicado', valor1//valor2,'),es el residuo:',valor1%valor2)\n",
    "\n"
   ]
  },
  {
   "cell_type": "code",
   "execution_count": null,
   "metadata": {},
   "outputs": [],
   "source": [
    "#potencia\n",
    "valor1=2\n",
    "valor2=3\n",
    "print(valor1,'elevado a',valor2,'es',valor1**valor2)"
   ]
  },
  {
   "cell_type": "markdown",
   "metadata": {},
   "source": [
    " # Comparación "
   ]
  },
  {
   "cell_type": "code",
   "execution_count": null,
   "metadata": {},
   "outputs": [],
   "source": [
    "valor1=13\n",
    "valor2=5\n",
    "\n",
    "#igualdad\n",
    "print('¿valor1 y valor2 son iguales?',valor1==valor2)\n",
    "\n"
   ]
  },
  {
   "cell_type": "code",
   "execution_count": null,
   "metadata": {},
   "outputs": [],
   "source": [
    "#diferentes\n",
    "print('¿valor1 y valor2 sson diferentes?',valor1!=valor2)\n"
   ]
  },
  {
   "cell_type": "code",
   "execution_count": null,
   "metadata": {},
   "outputs": [],
   "source": [
    "\n",
    "#desigualdad\n",
    "\n",
    "print('es valor1 > valor2',valor1>valor2)\n",
    "print('es valor1 < valor2',valor1<valor2)\n",
    "print('es valor1 >= valor2',valor1>=valor2)\n",
    "print('es valor1 <= valor2',valor1<=valor2)"
   ]
  },
  {
   "cell_type": "code",
   "execution_count": null,
   "metadata": {},
   "outputs": [],
   "source": [
    "cadena1=\"hola\"\n",
    "cadena2=\"hola\"\n",
    "#igualdad\n",
    "print('¿cadena1 y cadena2 son iguales?',cadena1==cadena2)\n",
    "\n",
    "#diferentes\n",
    "print('¿cadena1 y cadena2 sson diferentes?',cadena1!=cadena2)\n",
    "\n",
    "#desigualdad\n",
    "\n",
    "print('es cadena1 > cadena2',cadena1>cadena2)\n",
    "print('es cadena1 < cadena2',cadena1<cadena2)\n",
    "print('es cadena1 >= cadena2',cadena1>=cadena2)\n",
    "print('es cadena1 <= cadena2',cadena1<=cadena2)"
   ]
  },
  {
   "cell_type": "markdown",
   "metadata": {},
   "source": [
    "# Asignación"
   ]
  },
  {
   "cell_type": "code",
   "execution_count": null,
   "metadata": {},
   "outputs": [],
   "source": [
    "#Asigna un valor a una variable '=''.\n",
    "nombre ='Giordano'\n",
    "edad=51\n",
    "lista=[1,2,3,4,5,6,7]"
   ]
  },
  {
   "cell_type": "code",
   "execution_count": null,
   "metadata": {},
   "outputs": [],
   "source": [
    "#Asignar y contatenar(cadena) o sumar(numero) '+='\n",
    "nombre='Giordano'\n",
    "nombre  +=' Bruno' #como decir: nombre = nombre + ' Bruno'\n",
    "print(nombre)"
   ]
  },
  {
   "cell_type": "code",
   "execution_count": null,
   "metadata": {},
   "outputs": [],
   "source": [
    "numero= 12\n",
    "print('antes de sumar:',numero)\n",
    "numero+=13\n",
    "print('después de sumar:',numero)"
   ]
  },
  {
   "cell_type": "code",
   "execution_count": null,
   "metadata": {},
   "outputs": [],
   "source": [
    "diccionario={'limón':0, 'manzana':12,'guayaba':1}\n",
    "print('antes de sumar limones:',diccionario)\n",
    "diccionario['limón']+=101\n",
    "print('antes de sumar limones:',diccionario)"
   ]
  },
  {
   "cell_type": "code",
   "execution_count": null,
   "metadata": {},
   "outputs": [],
   "source": [
    "valor1=133 #establecemos un valor\n",
    "print('valor original',valor1)\n",
    "\n",
    "#le restamos 33 al valor\n",
    "valor1-=33\n",
    "print('restado 33:',valor1)\n",
    "\n",
    "#le multiplicamos dos al valor que nos queds\n",
    "valor1*=2\n",
    "print('multiplicado 2:',valor1)\n",
    "\n",
    "#le dividimos 100 al valor que nos queds\n",
    "valor1/=100\n",
    "print('dividido 100:',valor1)\n",
    "\n",
    "#lo elevamos al cubo\n",
    "valor1**=3\n",
    "print('elevado al cubo:',valor1)"
   ]
  },
  {
   "cell_type": "code",
   "execution_count": null,
   "metadata": {},
   "outputs": [],
   "source": [
    "#tarea para revisar \n",
    "valor1//=0.5\n",
    "print(valor1)\n",
    "valor1%=3\n",
    "print(valor1)"
   ]
  },
  {
   "cell_type": "markdown",
   "metadata": {},
   "source": [
    "# Lógicos"
   ]
  },
  {
   "cell_type": "code",
   "execution_count": null,
   "metadata": {},
   "outputs": [],
   "source": [
    "#and Si y sólo si, todas las operaciones son True dará como resultado True.\n",
    "print('True and True:',True and True)\n",
    "print('True and False:',True and False)\n",
    "print('False and False:',False and False)\n",
    "print('False and True:',False and True)"
   ]
  },
  {
   "cell_type": "code",
   "execution_count": null,
   "metadata": {},
   "outputs": [],
   "source": [
    "#Ejemplo de and\n",
    "print('(2>1) and True:',(2>1) and True)\n",
    "print('(2>1) and (3==3):',(2>1) and (3==3))"
   ]
  },
  {
   "cell_type": "code",
   "execution_count": null,
   "metadata": {},
   "outputs": [],
   "source": [
    "#or Si cualquier operación es True el resultado será True. \n",
    "print('True or True:',True or True)\n",
    "print('True or False:',True or False)\n",
    "print('False or False:',False or False)\n",
    "print('False or True:',False or True)"
   ]
  },
  {
   "cell_type": "code",
   "execution_count": null,
   "metadata": {},
   "outputs": [],
   "source": [
    "#Ejemplo de or\n",
    "print('(2>1) or false:',(2>1) or False)\n",
    "print('(2>1) or (3>3):',(2>1) or (3>3))"
   ]
  },
  {
   "cell_type": "code",
   "execution_count": null,
   "metadata": {},
   "outputs": [],
   "source": [
    "#not para la negación de la operación\n",
    "print(not False)"
   ]
  },
  {
   "cell_type": "markdown",
   "metadata": {},
   "source": [
    "\n",
    "\n",
    "\n",
    "# Membresía"
   ]
  },
  {
   "cell_type": "code",
   "execution_count": null,
   "metadata": {},
   "outputs": [],
   "source": [
    "#in retorna True si un elemento se encuentra contenido dentro de otro.\n",
    "lista=['perro','gato','conejo','mono']\n",
    "print('gato' in lista)"
   ]
  },
  {
   "cell_type": "code",
   "execution_count": null,
   "metadata": {},
   "outputs": [],
   "source": [
    "print('loro' in lista)"
   ]
  },
  {
   "cell_type": "code",
   "execution_count": null,
   "metadata": {},
   "outputs": [],
   "source": [
    "#not in\n",
    "print('caballo'not in lista)\n"
   ]
  },
  {
   "cell_type": "markdown",
   "metadata": {},
   "source": [
    "# Identidad"
   ]
  },
  {
   "cell_type": "code",
   "execution_count": 1,
   "metadata": {},
   "outputs": [
    {
     "name": "stdout",
     "output_type": "stream",
     "text": [
      "==, True\n",
      "is, False\n"
     ]
    }
   ],
   "source": [
    "var1 = 'Hola Mundo!' # Cadena\n",
    "var2 = \"Hola Mundo!\"\n",
    "print('==,',var1 == var2)\n",
    "print('is,',var1 is var2)"
   ]
  },
  {
   "cell_type": "code",
   "execution_count": 2,
   "metadata": {},
   "outputs": [
    {
     "name": "stdout",
     "output_type": "stream",
     "text": [
      "is, True\n"
     ]
    }
   ],
   "source": [
    "var2=var1\n",
    "print('is,',var1 is var2)"
   ]
  }
 ],
 "metadata": {
  "kernelspec": {
   "display_name": "Python 3",
   "language": "python",
   "name": "python3"
  },
  "language_info": {
   "codemirror_mode": {
    "name": "ipython",
    "version": 3
   },
   "file_extension": ".py",
   "mimetype": "text/x-python",
   "name": "python",
   "nbconvert_exporter": "python",
   "pygments_lexer": "ipython3",
   "version": "3.6.7"
  }
 },
 "nbformat": 4,
 "nbformat_minor": 2
}

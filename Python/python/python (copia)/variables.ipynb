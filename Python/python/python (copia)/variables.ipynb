{
 "cells": [
  {
   "cell_type": "markdown",
   "metadata": {},
   "source": [
    "# Variables\n",
    "**Cursos de Udemy:** \n",
    "   * Python desde cero hasta analísis estadísticos con Pandas y Numpy.\n",
    "   * Toma de decisión usando la tecnología disponible."
   ]
  },
  {
   "cell_type": "markdown",
   "metadata": {},
   "source": [
    "# Una variable en Python es la reserva de una ubicación en la memoria para almacenar valores. En otras palabras, una variable en un programa de python proporciona datos a la computadora para su procesamiento.\n",
    "  "
   ]
  },
  {
   "cell_type": "code",
   "execution_count": null,
   "metadata": {},
   "outputs": [],
   "source": [
    "numero_sin_decimal = 550          # Un entero\n",
    "precio_euro   = 1.34              # Una variable punto flotante\n",
    "nombre    = \"Giordano Bruno\"      # Una cadena\n",
    "\n",
    "# imprimir las variables para ser vistas\n",
    "print(\"Este número es entero:\" , numero_sin_decimal )\n",
    "print(\"Este número contiene decimal:\" , precio_euro )\n",
    "print(\"¿Quién fue el Nolano?,\" , nombre )"
   ]
  },
  {
   "cell_type": "markdown",
   "metadata": {},
   "source": [
    "# Las variables pueden ser declaradas por cualquier nombre, siguiendo las siguientes reglas:\n",
    "* Los nombres de variables pueden consistir en letras, números y guiones bajos.\n",
    "* Los nombres de las variables deben comenzar con una letra o un guión bajo, nunca con un número.\n",
    "* Los nombre son sencibles a mayúsculas y minúsculas."
   ]
  },
  {
   "cell_type": "code",
   "execution_count": null,
   "metadata": {},
   "outputs": [],
   "source": [
    "numero_sin_decimal = 100                                                        # Un entero\n",
    "precioEuro   = 1.34                                                             # Una variable punto flotante\n",
    "_nombre    = \"Giordano Bruno\"                                                   # Una cadena\n",
    "l15t4 = [ 'abcdefghijklmnopqrstuvwxyz', 'Giordano' , 123, 'Bruno', 1.32, None ] #lista\n",
    "\n",
    "print(_nombre)"
   ]
  },
  {
   "cell_type": "markdown",
   "metadata": {},
   "source": [
    " # Cada valor en Python tiene un tipo de datos que es dinámico (puede cambiar durante la ejecución del programa). "
   ]
  },
  {
   "cell_type": "code",
   "execution_count": null,
   "metadata": {},
   "outputs": [],
   "source": [
    "numero_sin_decimal = 100          # Un entero\n",
    "precio_euro   = 1.34              # Una variable punto flotante\n",
    "nombre    = \"Giordano Bruno\"      # Una cadena\n",
    "\n",
    "# imprimir las variables para ser vistas\n",
    "print(\"Este número es entero:\" , numero_sin_decimal )\n",
    "print(\"Este número contiene decimal:\" , precio_euro )\n",
    "print(\"¿Quién fue el Nolano?,\" , nombre )\n",
    "\n",
    "print() # separamos las impresiones\n",
    "\n",
    "numero_sin_decimal = nombre       # Ya no es un número\n",
    "precio_euro   = None              # Se declara vacía\n",
    "nombre    = 123                   # Ahora es un número\n",
    "\n",
    "# imprimir las variables para ser vistas\n",
    "print(\"*Este número es entero:\" , numero_sin_decimal )\n",
    "print(\"*Este número contiene decimal:\" , precio_euro )\n",
    "print(\"*¿Quién fue el Nolano?,\" , nombre )"
   ]
  },
  {
   "cell_type": "markdown",
   "metadata": {},
   "source": [
    "# Los diferentes tipos de datos en Python son Números, Lista, Tuplas, Cadenas, Diccionario, etc. "
   ]
  },
  {
   "cell_type": "markdown",
   "metadata": {},
   "source": [
    "# Lista"
   ]
  },
  {
   "cell_type": "code",
   "execution_count": null,
   "metadata": {},
   "outputs": [],
   "source": [
    "lista = [ 'abcdefghijklmnopqrstuvwxyz', 'Giordano' , 123, 'Bruno', 1.32, None ] #lista\n",
    "\n",
    "#print(lista[2])\n",
    "print(len(lista))"
   ]
  },
  {
   "cell_type": "code",
   "execution_count": null,
   "metadata": {},
   "outputs": [],
   "source": [
    "#Si queremos un dato dentro de una lista\n",
    "# la lista comienza el indice para ubicar el dato desde 0. Es decir que el primer dato seria lista[0],\n",
    "# el segundo sería lista[1], y así sucecivamente\n",
    "\n",
    "print(lista[1], lista[3])\n"
   ]
  },
  {
   "cell_type": "code",
   "execution_count": null,
   "metadata": {},
   "outputs": [],
   "source": [
    "#tamaño de la lista\n",
    "print(\"la lista antes creada tiene\",len(lista), \"elementos\")"
   ]
  },
  {
   "cell_type": "code",
   "execution_count": null,
   "metadata": {},
   "outputs": [],
   "source": [
    "#anexar dato a una lista\n",
    "lista.append(\"otro dato más\")\n",
    "print(lista)"
   ]
  },
  {
   "cell_type": "code",
   "execution_count": null,
   "metadata": {},
   "outputs": [],
   "source": [
    "print(len(lista))"
   ]
  },
  {
   "cell_type": "code",
   "execution_count": null,
   "metadata": {},
   "outputs": [],
   "source": [
    "#unir listas\n",
    "lista_otra=[\"usuario\", 123456]\n",
    "lista =  lista +lista_otra # se lee lo que está en la lista agragale lista_otra\n",
    "print(lista)"
   ]
  },
  {
   "cell_type": "code",
   "execution_count": null,
   "metadata": {},
   "outputs": [],
   "source": [
    "print(len(lista))"
   ]
  },
  {
   "cell_type": "code",
   "execution_count": null,
   "metadata": {},
   "outputs": [],
   "source": [
    "#si necesito solo estos datos: 'Giordano', 123, 'Bruno'\n",
    "print(lista[1:5])# los datos que están desde el indice 1 hasta 4 sin incluir. Es decir (lista[1],lista[2],lista[3])"
   ]
  },
  {
   "cell_type": "code",
   "execution_count": null,
   "metadata": {},
   "outputs": [],
   "source": [
    "print(lista)"
   ]
  },
  {
   "cell_type": "code",
   "execution_count": null,
   "metadata": {},
   "outputs": [],
   "source": [
    "lista.remove(123456) #borrar un dato dentro de la lista\n",
    "print(lista)"
   ]
  },
  {
   "cell_type": "code",
   "execution_count": null,
   "metadata": {},
   "outputs": [],
   "source": [
    "lista.remove('usuario')"
   ]
  },
  {
   "cell_type": "code",
   "execution_count": null,
   "metadata": {},
   "outputs": [],
   "source": [
    "print(lista)"
   ]
  },
  {
   "cell_type": "code",
   "execution_count": null,
   "metadata": {},
   "outputs": [],
   "source": [
    "123 in lista #determinar si un valor está dentro de la lista"
   ]
  },
  {
   "cell_type": "markdown",
   "metadata": {},
   "source": [
    "# Tuplas"
   ]
  },
  {
   "cell_type": "code",
   "execution_count": null,
   "metadata": {},
   "outputs": [],
   "source": [
    "tup1a = ('arroz', 'vaca', 2021, 1979) #tupla\n",
    "\n",
    "print(tup1a)"
   ]
  },
  {
   "cell_type": "code",
   "execution_count": null,
   "metadata": {},
   "outputs": [],
   "source": [
    "#Si queremos un dato dentro de una tupla\n",
    "# la tupla comienza el indice para ubicar el dato desde 0. Es decir que el primer dato seria tupla[0],\n",
    "# el segundo sería tupla[1], y así sucecivamente\n",
    "\n",
    "print(tup1a[1], tup1a[3])"
   ]
  },
  {
   "cell_type": "code",
   "execution_count": null,
   "metadata": {},
   "outputs": [],
   "source": [
    "#tamaño de la tupla\n",
    "print(\"la tupla antes creada tiene\",len(tup1a), \"elementos\")"
   ]
  },
  {
   "cell_type": "code",
   "execution_count": null,
   "metadata": {},
   "outputs": [],
   "source": [
    "#anexar dato a una tupla\n",
    "tup1a=tup1a+(\"otro dato más\",)\n",
    "print(tup1a)"
   ]
  },
  {
   "cell_type": "code",
   "execution_count": null,
   "metadata": {},
   "outputs": [],
   "source": [
    "tupla."
   ]
  },
  {
   "cell_type": "code",
   "execution_count": null,
   "metadata": {},
   "outputs": [],
   "source": [
    "lista=[1,2,3,4,5]"
   ]
  },
  {
   "cell_type": "code",
   "execution_count": null,
   "metadata": {},
   "outputs": [],
   "source": [
    "lista."
   ]
  },
  {
   "cell_type": "code",
   "execution_count": null,
   "metadata": {},
   "outputs": [],
   "source": [
    "#una tupla de listas\n",
    "lista1=[1,2,3]\n",
    "lista2=[7,8,9]\n",
    "tupla_=(lista1,lista2)\n",
    "print(tupla_)"
   ]
  },
  {
   "cell_type": "markdown",
   "metadata": {},
   "source": [
    "\n",
    "\n",
    "\n",
    "# Números"
   ]
  },
  {
   "cell_type": "code",
   "execution_count": null,
   "metadata": {},
   "outputs": [],
   "source": [
    "#Entero\n",
    "valor_1=1.0\n",
    "valor_2=3\n",
    "suma = valor_1+valor_2\n",
    "\n",
    "print(suma)"
   ]
  },
  {
   "cell_type": "code",
   "execution_count": null,
   "metadata": {},
   "outputs": [],
   "source": [
    "#float\n",
    "largo_m=1.5\n",
    "ancho_m=3 # Entero\n",
    "area=largo_m*ancho_m\n",
    "\n",
    "print(area)"
   ]
  },
  {
   "cell_type": "markdown",
   "metadata": {},
   "source": [
    "# Cadenas"
   ]
  },
  {
   "cell_type": "code",
   "execution_count": null,
   "metadata": {},
   "outputs": [],
   "source": [
    "varStr1 = 'Hola Mundo!' # Cadena\n",
    "variable_string_2 = \"Nadie conoció la mente humana mejor que Sócrates.\" #cadena\n",
    "\n",
    "#Tamaño de las cadenas\n",
    "print(\"la variable: varStr1 tiene\", len(varStr1), \"caracteres\")"
   ]
  },
  {
   "cell_type": "code",
   "execution_count": null,
   "metadata": {},
   "outputs": [],
   "source": [
    "print (\"varStr1[0]: \", varStr1[0] )#imprime 'H'\n",
    "print (\"variable_string_2[0:20]: \", variable_string_2[0:20] )#imprime 'ció la men'"
   ]
  },
  {
   "cell_type": "code",
   "execution_count": null,
   "metadata": {
    "scrolled": true
   },
   "outputs": [],
   "source": [
    "#Eliminar los espacios vacíos antes y despues del texto\n",
    "varStr1 = '           Hola Mundo!       ' # Cadena\n",
    "print(\"Antes de eliminar los espacios vacíos en varStr1:\",varStr1 )\n",
    "\n",
    "variable_nueva_para_almacenar = varStr1.strip()\n",
    "print(\"Después de eliminar los espacios vacíos en variable_nueva_para_almacenar:\",variable_nueva_para_almacenar )\n"
   ]
  },
  {
   "cell_type": "code",
   "execution_count": null,
   "metadata": {},
   "outputs": [],
   "source": [
    "print(\"varStr1 sigue teniendo los espacios vacíos:\",varStr1 )\n",
    "\n",
    "varStr1 =varStr1.strip() #Se eliminan los espacios vacíos y el resultado se guarda con el mismo nombre\n",
    "print(\"varStr1 sin espacios vacíos:\",varStr1 )"
   ]
  },
  {
   "cell_type": "code",
   "execution_count": null,
   "metadata": {},
   "outputs": [],
   "source": [
    "print(variable_string_2.lower())#imprime todos los caracteres en minúsculas\n",
    "print(variable_string_2.upper())#imprime todos los caracteres en mayúsculas\n",
    "print(\"cambiamos la o por a:\",variable_string_2.replace(\"o\", \"a\")) #cambiamos la o por a\n",
    "print(\"cambiamos la o por a. y eliminamos la n:\",variable_string_2.replace(\"o\", \"a\").replace(\"n\", \"\"))"
   ]
  },
  {
   "cell_type": "code",
   "execution_count": null,
   "metadata": {},
   "outputs": [],
   "source": [
    "print(\"texto original:\",variable_string_2)\n",
    "\n",
    "#creamos lista a partir de un caracter divisorio\n",
    "lista=variable_string_2.split('o')#separa por la letra 'o'\n",
    "print(lista)"
   ]
  },
  {
   "cell_type": "code",
   "execution_count": null,
   "metadata": {},
   "outputs": [],
   "source": [
    "print(len(lista))"
   ]
  },
  {
   "cell_type": "code",
   "execution_count": null,
   "metadata": {},
   "outputs": [],
   "source": [
    "print(\"texto original:\",variable_string_2)\n",
    "\n",
    "#separamos por los espacios de separación (' ')\n",
    "lista=variable_string_2.split(' ')\n",
    "print(lista)"
   ]
  },
  {
   "cell_type": "code",
   "execution_count": null,
   "metadata": {},
   "outputs": [],
   "source": [
    "print(len(lista))"
   ]
  },
  {
   "cell_type": "code",
   "execution_count": null,
   "metadata": {},
   "outputs": [],
   "source": [
    "var=\"2\"\n",
    "print(var.isnumeric()) #¿es un número lo que almacena la variable: variable_string_2.?"
   ]
  },
  {
   "cell_type": "code",
   "execution_count": null,
   "metadata": {},
   "outputs": [],
   "source": [
    "var='123'\n",
    "print(var.isnumeric())#¿es un número?"
   ]
  },
  {
   "cell_type": "code",
   "execution_count": null,
   "metadata": {},
   "outputs": [],
   "source": [
    "print(\"texto original:\",variable_string_2)\n",
    "\n",
    "#contar la cantidad de un caracter dentro de un texto\n",
    "print(\"cantidad de 'o' en el texto:\",variable_string_2.count('o'))\n",
    "print(\"cantidad de ' ' en el texto:\",variable_string_2.count(' '))\n",
    "print(\"cantidad de '*' en el texto:\",variable_string_2.count('*'))"
   ]
  },
  {
   "cell_type": "code",
   "execution_count": null,
   "metadata": {
    "scrolled": true
   },
   "outputs": [],
   "source": [
    "variable_string_2 = \"Nadie conoció la mente humana mejor que Sócrates.\" #cadena\n",
    "\n",
    "print(\"texto original:\",variable_string_2)\n",
    "print()#separación\n",
    "#imprimir en otra línea nueva '\\n' y con tabulación '\\t'\n",
    "variable_string_2 = variable_string_2 + \"\\n\\t También fue maestro de Platón.\" \n",
    "print(\"texto en dos líneas y con tabulación:\\n\\t\",variable_string_2)"
   ]
  },
  {
   "cell_type": "markdown",
   "metadata": {},
   "source": [
    "# Diccionarios"
   ]
  },
  {
   "cell_type": "markdown",
   "metadata": {},
   "source": [
    "Los Diccionarios tambien llamados matrices asociativas , ya que son colecciones que contiene clave:valor.\n",
    "La diferencia que existe entre diccionarios con la listas o las tuplas es que los valores almacenados en el diccionario no se le accede a traves de su indice si no atraves de su clave utilizando el operador de [  ] asi que de esta forma nuestros diccionarios no tienen un orden prestablecido\n",
    "* fuente: https://pycol.blogspot.com/2009/03/diccionarios-en-python.html\n"
   ]
  },
  {
   "cell_type": "code",
   "execution_count": null,
   "metadata": {},
   "outputs": [],
   "source": [
    "#ejemplo de diccionario\n",
    "diccionario ={'arroz':'sustantivo', 'cantar':'verbo', 'el':'articulo', 'aprender':'verbo'}\n",
    "\n",
    "print(diccionario)"
   ]
  },
  {
   "cell_type": "code",
   "execution_count": null,
   "metadata": {},
   "outputs": [],
   "source": [
    "#ver las claves del diccionario\n",
    "print(\"claves\",diccionario.keys())\n",
    "\n",
    "#ver los valores del diccionario\n",
    "print(diccionario.values())"
   ]
  },
  {
   "cell_type": "markdown",
   "metadata": {},
   "source": [
    "**Vamos a explixar los diccionarios con un ejemplo**"
   ]
  },
  {
   "cell_type": "code",
   "execution_count": null,
   "metadata": {},
   "outputs": [],
   "source": [
    "#supongamos que vamos a vender alimentos y necesitamos inventariar\n",
    "#tiene nombre del rubro y la cantidad\n",
    "alimentos={'arroz':10,'pastas':0,'harina':0,'bebidas':11,'galletas':0,'especies':0, 'carne':15}\n",
    "print('inventario inicial',alimentos)"
   ]
  },
  {
   "cell_type": "code",
   "execution_count": null,
   "metadata": {},
   "outputs": [],
   "source": [
    "#para acceder a la cantidad que tiene cada rubro solo basta con colocar la clave\n",
    "\n",
    "print(\"la cantidad de arroz es:\",alimentos['arroz'])"
   ]
  },
  {
   "cell_type": "code",
   "execution_count": null,
   "metadata": {},
   "outputs": [],
   "source": [
    "#para sacar un rubro, que no se vaya a vender, del inventario se escribe lo siguiente:\n",
    "del alimentos['especies']\n",
    "print(alimentos)"
   ]
  },
  {
   "cell_type": "code",
   "execution_count": null,
   "metadata": {},
   "outputs": [],
   "source": [
    "#si llega un cargamento de harina y necesita incorporarse al inventario\n",
    "alimentos['harina']=alimentos['harina']+200\n",
    "print(alimentos)"
   ]
  },
  {
   "cell_type": "code",
   "execution_count": null,
   "metadata": {},
   "outputs": [],
   "source": [
    "#si los elementos de inventario son muchos y necesitamos saber si está un rubro para no crearlo dos veces\n",
    "print('harina' in alimentos)"
   ]
  },
  {
   "cell_type": "code",
   "execution_count": null,
   "metadata": {},
   "outputs": [],
   "source": [
    "#agregar otro rubro\n",
    "alimentos['huevos']=14\n",
    "\n",
    "print(alimentos)"
   ]
  },
  {
   "cell_type": "markdown",
   "metadata": {},
   "source": [
    "# Variables Glovales y Locales"
   ]
  },
  {
   "cell_type": "code",
   "execution_count": 1,
   "metadata": {},
   "outputs": [
    {
     "name": "stdout",
     "output_type": "stream",
     "text": [
      "1\n"
     ]
    }
   ],
   "source": [
    "variable = 10\n",
    "\n",
    "def variable_local():\n",
    "    variable = 1\n",
    "    print(variable)\n",
    "\n",
    "def variable_global():\n",
    "    print(variable)     \n",
    "\n",
    "def modificar_variable_global():\n",
    "    global variable\n",
    "    variable =33\n",
    "    print(variable)\n",
    "    \n",
    "variable_local() # imprimir 1\n"
   ]
  },
  {
   "cell_type": "code",
   "execution_count": 2,
   "metadata": {},
   "outputs": [
    {
     "name": "stdout",
     "output_type": "stream",
     "text": [
      "10\n"
     ]
    }
   ],
   "source": [
    "variable_global() # imprimir 10\n"
   ]
  },
  {
   "cell_type": "code",
   "execution_count": 3,
   "metadata": {},
   "outputs": [
    {
     "name": "stdout",
     "output_type": "stream",
     "text": [
      "22\n"
     ]
    }
   ],
   "source": [
    "variable=22\n",
    "variable_global()   # ?????\n"
   ]
  },
  {
   "cell_type": "code",
   "execution_count": 4,
   "metadata": {},
   "outputs": [
    {
     "name": "stdout",
     "output_type": "stream",
     "text": [
      "33\n"
     ]
    }
   ],
   "source": [
    "modificar_variable_global() # ?????"
   ]
  },
  {
   "cell_type": "code",
   "execution_count": 5,
   "metadata": {},
   "outputs": [
    {
     "name": "stdout",
     "output_type": "stream",
     "text": [
      "33\n"
     ]
    }
   ],
   "source": [
    "variable_global()   # ?????"
   ]
  }
 ],
 "metadata": {
  "kernelspec": {
   "display_name": "Python 3",
   "language": "python",
   "name": "python3"
  },
  "language_info": {
   "codemirror_mode": {
    "name": "ipython",
    "version": 3
   },
   "file_extension": ".py",
   "mimetype": "text/x-python",
   "name": "python",
   "nbconvert_exporter": "python",
   "pygments_lexer": "ipython3",
   "version": "3.6.7"
  }
 },
 "nbformat": 4,
 "nbformat_minor": 2
}

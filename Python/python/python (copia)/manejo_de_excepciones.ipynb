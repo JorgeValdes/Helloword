{
 "cells": [
  {
   "cell_type": "markdown",
   "metadata": {},
   "source": [
    "# Manejo de excepciones\n",
    "**Cursos de Udemy:** \n",
    "   * Python desde cero hasta analísis estadísticos con Pandas y Numpy.\n",
    "   * Toma de decisión usando la tecnología disponible."
   ]
  },
  {
   "cell_type": "markdown",
   "metadata": {},
   "source": [
    "# excepciones"
   ]
  },
  {
   "cell_type": "code",
   "execution_count": 1,
   "metadata": {},
   "outputs": [],
   "source": [
    "#Clase Persona\n",
    "class Calculadora:\n",
    "    #el constructor\n",
    "    def __init__(self, numero1, numero2):\n",
    "        self.numero1=numero1\n",
    "        self.numero2 = numero2\n",
    "        \n",
    "    def suma(self):\n",
    "        return self.numero1 + self.numero2\n",
    "    \n",
    "    def resta(self):\n",
    "        return self.numero1 - self.numero2\n",
    "    \n",
    "    def multiplicación(self):\n",
    "        return self.numero1 * self.numero2\n",
    "    \n",
    "    def división(self):\n",
    "        try:\n",
    "            return self.numero1 /self.numero2\n",
    "        except ZeroDivisionError:\n",
    "            print('error, denominador cero')\n",
    "            return 0\n",
    "        except TypeError:\n",
    "            print('error, introduzca caracteres numéricos')\n",
    "            return 0\n",
    "    \n"
   ]
  },
  {
   "cell_type": "code",
   "execution_count": 2,
   "metadata": {},
   "outputs": [
    {
     "name": "stdout",
     "output_type": "stream",
     "text": [
      "25\n"
     ]
    }
   ],
   "source": [
    "álgebra = Calculadora(12,13)\n",
    "print(álgebra.suma())\n"
   ]
  },
  {
   "cell_type": "code",
   "execution_count": 4,
   "metadata": {},
   "outputs": [
    {
     "name": "stdout",
     "output_type": "stream",
     "text": [
      "87\n"
     ]
    }
   ],
   "source": [
    "álgebra.numero1=100\n",
    "print(álgebra.resta())"
   ]
  },
  {
   "cell_type": "code",
   "execution_count": 6,
   "metadata": {},
   "outputs": [
    {
     "name": "stdout",
     "output_type": "stream",
     "text": [
      "error, denominador cero\n",
      "0\n"
     ]
    }
   ],
   "source": [
    "álgebra = Calculadora(12,0)\n",
    "print(álgebra.división())"
   ]
  },
  {
   "cell_type": "code",
   "execution_count": 74,
   "metadata": {},
   "outputs": [
    {
     "name": "stdout",
     "output_type": "stream",
     "text": [
      "5\n"
     ]
    }
   ],
   "source": [
    "álgebra.numero1=2\n",
    "álgebra.numero2=3\n",
    "\n",
    "print(álgebra.suma())"
   ]
  }
 ],
 "metadata": {
  "kernelspec": {
   "display_name": "Python 3",
   "language": "python",
   "name": "python3"
  },
  "language_info": {
   "codemirror_mode": {
    "name": "ipython",
    "version": 3
   },
   "file_extension": ".py",
   "mimetype": "text/x-python",
   "name": "python",
   "nbconvert_exporter": "python",
   "pygments_lexer": "ipython3",
   "version": "3.6.7"
  }
 },
 "nbformat": 4,
 "nbformat_minor": 2
}

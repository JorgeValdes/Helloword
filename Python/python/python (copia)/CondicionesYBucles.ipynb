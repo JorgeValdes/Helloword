{
 "cells": [
  {
   "cell_type": "markdown",
   "metadata": {},
   "source": [
    "# Condiciones Y Bucles\n",
    "**Cursos de Udemy:** \n",
    "   * Python desde cero hasta analísis estadísticos con Pandas y Numpy.\n",
    "   * Toma de decisión usando la tecnología disponible."
   ]
  },
  {
   "cell_type": "markdown",
   "metadata": {},
   "source": [
    "# if condición\n",
    "  "
   ]
  },
  {
   "cell_type": "code",
   "execution_count": null,
   "metadata": {},
   "outputs": [],
   "source": [
    "#si intentamos dividir un número entre 0 nos producirá un error ZeroDivisionError\n",
    "numero_1=100\n",
    "numero_2=0\n",
    "\n",
    "division=numero_1/numero_2 # \"es infinito por lo tanto produce error\""
   ]
  },
  {
   "cell_type": "code",
   "execution_count": null,
   "metadata": {},
   "outputs": [],
   "source": [
    "#Si deseamos que nos avise cuando el denominador es 0. Podemos usar una condición\n",
    "numero_1=100\n",
    "numero_2=1\n",
    "\n",
    "if (numero_2!=0):\n",
    "    división=numero_1/numero_2\n",
    "    print(división)\n",
    "if (numero_2==0):\n",
    "    print('denominador =',numero_2)"
   ]
  },
  {
   "cell_type": "markdown",
   "metadata": {},
   "source": [
    "# if-else condición"
   ]
  },
  {
   "cell_type": "code",
   "execution_count": null,
   "metadata": {},
   "outputs": [],
   "source": [
    "#con esta condición el ejercicio de arriba se puede simplificar\n",
    "numero_1=100\n",
    "numero_2=0\n",
    "\n",
    "if (numero_2!=0): #se lee así: si numero_2 es distinto de 0 proceder a dividir\n",
    "    división=numero_1/numero_2 #dividir\n",
    "    print(división) #mostrar la división\n",
    "else: #de lo contrario, es decir que sí numero_2 es igual a 0\n",
    "    print('denominador =',numero_2) #informar que numero_2 es 0"
   ]
  },
  {
   "cell_type": "markdown",
   "metadata": {},
   "source": [
    " # if-elif-else condición"
   ]
  },
  {
   "cell_type": "code",
   "execution_count": null,
   "metadata": {},
   "outputs": [],
   "source": [
    "operación='resta'\n",
    "valor1=13\n",
    "valor2=10\n",
    "\n",
    "if(operación=='suma'):\n",
    "    print('la suma es',valor1+valor2)\n",
    "elif(operación=='resta'):\n",
    "    print('la resta es',valor1-valor2)\n",
    "elif(operación=='multiplicación' or operación=='multiplicacion'):\n",
    "    print('la multiplicación es',valor1*valor2)\n",
    "elif((operación=='división' or operación=='division')and valor2!=0):\n",
    "    print('la división es',valor1/valor2)\n",
    "else:\n",
    "    print('seleccione la operación correcta: suma, resta, multiplicación, división')"
   ]
  },
  {
   "cell_type": "code",
   "execution_count": null,
   "metadata": {},
   "outputs": [],
   "source": [
    "operación='otro'\n",
    "valor1=13\n",
    "valor2=10\n",
    "\n",
    "if(operación=='suma'):\n",
    "    print('la suma es',valor1+valor2)\n",
    "elif(operación=='resta'):\n",
    "    print('la resta es',valor1-valor2)\n",
    "elif(operación=='multiplicación' or operación=='multiplicacion'):\n",
    "    print('la multiplicación es',valor1*valor2)\n",
    "elif(operación=='división' or operación=='division'):\n",
    "    if(valor2==0):\n",
    "        print('la división no puede realizarse, denominador es 0')\n",
    "    else:\n",
    "        print('la división es',valor1/valor2)\n",
    "else:\n",
    "    print('seleccione la operación correcta: suma, resta, multiplicación, división')"
   ]
  },
  {
   "cell_type": "markdown",
   "metadata": {},
   "source": [
    " # for bucle"
   ]
  },
  {
   "cell_type": "code",
   "execution_count": null,
   "metadata": {},
   "outputs": [],
   "source": [
    "for num in range(1, 1001):#mostrar los numeros del 1 al 1000\n",
    "    print(num)"
   ]
  },
  {
   "cell_type": "code",
   "execution_count": null,
   "metadata": {},
   "outputs": [],
   "source": [
    "for num in range(1, 1000):\n",
    "    if(num%2==0):\n",
    "        print ('\\t',num)#mostrar del lado derecho con tabulación los números pares\n",
    "    else:\n",
    "        print(num) #mostrar del lado izquierdo los datos impares"
   ]
  },
  {
   "cell_type": "code",
   "execution_count": null,
   "metadata": {},
   "outputs": [],
   "source": [
    "suma=0\n",
    "for num in range(1, 1000):\n",
    "    suma+=num\n",
    "print(suma)"
   ]
  },
  {
   "cell_type": "code",
   "execution_count": null,
   "metadata": {},
   "outputs": [],
   "source": [
    "#recorrer una lista\n",
    "frutas = [\"manzana\", \"banana\", \"uva\",\"pera\"]\n",
    "for x in frutas:\n",
    "    print(x)"
   ]
  },
  {
   "cell_type": "code",
   "execution_count": null,
   "metadata": {},
   "outputs": [],
   "source": [
    "#recorrer una cadena de texto\n",
    "for x in \"El respeto al derecho ajeno, es la paz\":\n",
    "    if(x!=' '): #imprimir sin espacios\n",
    "        print(x)"
   ]
  },
  {
   "cell_type": "code",
   "execution_count": null,
   "metadata": {},
   "outputs": [],
   "source": [
    "#recorrer un diccionario\n",
    "diccionario={'uno':1,'dos':2,'tres':3, 'cuatro':4}\n",
    "\n",
    "for numeroLetras,numero in diccionario.items():\n",
    "    print('el signo',numero,'se llama',numeroLetras)"
   ]
  },
  {
   "cell_type": "markdown",
   "metadata": {},
   "source": [
    "# for-else bucle"
   ]
  },
  {
   "cell_type": "code",
   "execution_count": null,
   "metadata": {},
   "outputs": [],
   "source": [
    "for x in range(6):\n",
    "    print(x)\n",
    "else:\n",
    "    print(\"Terminó correctamente\")"
   ]
  },
  {
   "cell_type": "markdown",
   "metadata": {},
   "source": [
    " # while bucle"
   ]
  },
  {
   "cell_type": "code",
   "execution_count": null,
   "metadata": {},
   "outputs": [],
   "source": [
    "contar =1\n",
    "while (contar < 1000):\n",
    "    print ('La cuenta va por:', contar)\n",
    "    contar+=1\n",
    "print (\"Terminó\")"
   ]
  },
  {
   "cell_type": "code",
   "execution_count": null,
   "metadata": {},
   "outputs": [],
   "source": [
    "# escribir una cotraseña y tiene tres (3) intentos sino bloquea\n",
    "contraseña = ''\n",
    "bloqueo=0\n",
    "\n",
    "while (contraseña != 'entrar123456' and bloqueo<3):\n",
    "    print('Introduzca su contraseña?')\n",
    "    contraseña = input()\n",
    "    bloqueo+=1\n",
    "    \n",
    "if(bloqueo==3):\n",
    "    print('Bloqueo de seguridad')\n",
    "    print('Contactese con el administrador del sistema')\n",
    "else:\n",
    "    print('La contraseña es correcta')"
   ]
  },
  {
   "cell_type": "markdown",
   "metadata": {},
   "source": [
    "# while-else bucle"
   ]
  },
  {
   "cell_type": "code",
   "execution_count": null,
   "metadata": {},
   "outputs": [],
   "source": [
    "cuenta = 10\n",
    "while cuenta >0:\n",
    "    print( cuenta, \" es mayor que 0\")\n",
    "    cuenta = cuenta - 1    # cuenta-=1\n",
    "else:\n",
    "    print (cuenta, \"es menor o igual a 0\")"
   ]
  },
  {
   "cell_type": "markdown",
   "metadata": {},
   "source": [
    "# Sentencia break"
   ]
  },
  {
   "cell_type": "markdown",
   "metadata": {},
   "source": [
    "la sentencia `break` finaliza el bucle que lo contiene"
   ]
  },
  {
   "cell_type": "code",
   "execution_count": null,
   "metadata": {},
   "outputs": [],
   "source": [
    "# escribir una cotraseña y tiene tres (3) intentos sino bloquea\n",
    "contraseña = ''\n",
    "contador=1\n",
    "\n",
    "while (contraseña != 'entrar123456'):\n",
    "    print('Introduzca su contraseña?')\n",
    "    contraseña = input()\n",
    "    if(contador==3):\n",
    "        print('Bloqueo de seguridad')\n",
    "        break\n",
    "    contador+=1\n",
    "    \n",
    "    \n",
    "if(contraseña == 'entrar123456'):\n",
    "    print('La contraseña es correcta')\n",
    "else:\n",
    "    print('Contactese con el administrador del sistema')"
   ]
  },
  {
   "cell_type": "markdown",
   "metadata": {},
   "source": [
    "# Sentencia continue\n",
    "la sentencia `continue` omite el resto del código dentro de un bucle solo para la iteración actual."
   ]
  },
  {
   "cell_type": "code",
   "execution_count": null,
   "metadata": {},
   "outputs": [],
   "source": [
    "nuevaCadena=''\n",
    "for val in \"cadena\":\n",
    "    if (val == \"d\" or val == \"e\"):\n",
    "        continue\n",
    "    nuevaCadena+=val\n",
    "\n",
    "print(nuevaCadena)"
   ]
  },
  {
   "cell_type": "code",
   "execution_count": 1,
   "metadata": {},
   "outputs": [
    {
     "name": "stdout",
     "output_type": "stream",
     "text": [
      "1\n",
      "3\n",
      "5\n",
      "7\n",
      "9\n",
      "11\n",
      "13\n",
      "15\n",
      "17\n",
      "19\n",
      "21\n",
      "23\n",
      "25\n",
      "27\n",
      "29\n",
      "31\n",
      "33\n",
      "35\n",
      "37\n",
      "39\n",
      "41\n",
      "43\n",
      "45\n",
      "47\n",
      "49\n",
      "51\n",
      "53\n",
      "55\n",
      "57\n",
      "59\n",
      "61\n",
      "63\n",
      "65\n",
      "67\n",
      "69\n",
      "71\n",
      "73\n",
      "75\n",
      "77\n",
      "79\n",
      "81\n",
      "83\n",
      "85\n",
      "87\n",
      "89\n",
      "91\n",
      "93\n",
      "95\n",
      "97\n",
      "99\n",
      "101\n",
      "103\n",
      "105\n",
      "107\n",
      "109\n",
      "111\n",
      "113\n",
      "115\n",
      "117\n",
      "119\n",
      "121\n",
      "123\n",
      "125\n",
      "127\n",
      "129\n",
      "131\n",
      "133\n",
      "135\n",
      "137\n",
      "139\n",
      "141\n",
      "143\n",
      "145\n",
      "147\n",
      "149\n",
      "151\n",
      "153\n",
      "155\n",
      "157\n",
      "159\n",
      "161\n",
      "163\n",
      "165\n",
      "167\n",
      "169\n",
      "171\n",
      "173\n",
      "175\n",
      "177\n",
      "179\n",
      "181\n",
      "183\n",
      "185\n",
      "187\n",
      "189\n",
      "191\n",
      "193\n",
      "195\n",
      "197\n",
      "199\n",
      "201\n",
      "203\n",
      "205\n",
      "207\n",
      "209\n",
      "211\n",
      "213\n",
      "215\n",
      "217\n",
      "219\n",
      "221\n",
      "223\n",
      "225\n",
      "227\n",
      "229\n",
      "231\n",
      "233\n",
      "235\n",
      "237\n",
      "239\n",
      "241\n",
      "243\n",
      "245\n",
      "247\n",
      "249\n",
      "251\n",
      "253\n",
      "255\n",
      "257\n",
      "259\n",
      "261\n",
      "263\n",
      "265\n",
      "267\n",
      "269\n",
      "271\n",
      "273\n",
      "275\n",
      "277\n",
      "279\n",
      "281\n",
      "283\n",
      "285\n",
      "287\n",
      "289\n",
      "291\n",
      "293\n",
      "295\n",
      "297\n",
      "299\n",
      "301\n",
      "303\n",
      "305\n",
      "307\n",
      "309\n",
      "311\n",
      "313\n",
      "315\n",
      "317\n",
      "319\n",
      "321\n",
      "323\n",
      "325\n",
      "327\n",
      "329\n",
      "331\n",
      "333\n",
      "335\n",
      "337\n",
      "339\n",
      "341\n",
      "343\n",
      "345\n",
      "347\n",
      "349\n",
      "351\n",
      "353\n",
      "355\n",
      "357\n",
      "359\n",
      "361\n",
      "363\n",
      "365\n",
      "367\n",
      "369\n",
      "371\n",
      "373\n",
      "375\n",
      "377\n",
      "379\n",
      "381\n",
      "383\n",
      "385\n",
      "387\n",
      "389\n",
      "391\n",
      "393\n",
      "395\n",
      "397\n",
      "399\n",
      "401\n",
      "403\n",
      "405\n",
      "407\n",
      "409\n",
      "411\n",
      "413\n",
      "415\n",
      "417\n",
      "419\n",
      "421\n",
      "423\n",
      "425\n",
      "427\n",
      "429\n",
      "431\n",
      "433\n",
      "435\n",
      "437\n",
      "439\n",
      "441\n",
      "443\n",
      "445\n",
      "447\n",
      "449\n",
      "451\n",
      "453\n",
      "455\n",
      "457\n",
      "459\n",
      "461\n",
      "463\n",
      "465\n",
      "467\n",
      "469\n",
      "471\n",
      "473\n",
      "475\n",
      "477\n",
      "479\n",
      "481\n",
      "483\n",
      "485\n",
      "487\n",
      "489\n",
      "491\n",
      "493\n",
      "495\n",
      "497\n",
      "499\n"
     ]
    }
   ],
   "source": [
    "for x in range(1,501):\n",
    "    if(x%2==0):\n",
    "        continue\n",
    "    print(x)"
   ]
  }
 ],
 "metadata": {
  "kernelspec": {
   "display_name": "Python 3",
   "language": "python",
   "name": "python3"
  },
  "language_info": {
   "codemirror_mode": {
    "name": "ipython",
    "version": 3
   },
   "file_extension": ".py",
   "mimetype": "text/x-python",
   "name": "python",
   "nbconvert_exporter": "python",
   "pygments_lexer": "ipython3",
   "version": "3.6.7"
  }
 },
 "nbformat": 4,
 "nbformat_minor": 2
}

{
 "cells": [
  {
   "cell_type": "markdown",
   "metadata": {},
   "source": [
    "# Módulo\n",
    "**Cursos de Udemy:** \n",
    "   * Python desde cero hasta analísis estadísticos con Pandas y Numpy.\n",
    "   * Toma de decisión usando la tecnología disponible."
   ]
  },
  {
   "cell_type": "code",
   "execution_count": 1,
   "metadata": {},
   "outputs": [
    {
     "name": "stdout",
     "output_type": "stream",
     "text": [
      "[1, 1, 2, 3, 5, 8, 13, 21, 34, 55, 89, 144, 233, 377, 610, 987]\n"
     ]
    }
   ],
   "source": [
    "#función lanzamiento de dado\n",
    "import calculo as cnumerico\n",
    "\n",
    "print(cnumerico.fib_list(987))\n"
   ]
  },
  {
   "cell_type": "code",
   "execution_count": 3,
   "metadata": {},
   "outputs": [
    {
     "name": "stdout",
     "output_type": "stream",
     "text": [
      "-10\n"
     ]
    }
   ],
   "source": [
    "print(cnumerico.calcular('resta',20,30))"
   ]
  },
  {
   "cell_type": "code",
   "execution_count": 4,
   "metadata": {},
   "outputs": [
    {
     "name": "stdout",
     "output_type": "stream",
     "text": [
      "[30, 10, 85, 5, 90, 50, 45, 20, 85, 60, 100, 0, 10, 65, 75, 45, 65]\n"
     ]
    }
   ],
   "source": [
    "import random as aleatorio\n",
    "lista =[]\n",
    "for i in range(17):\n",
    "    lista.append(aleatorio.randrange(0, 101, 5))#número aleatorios del 0 al 100 multiplos de 5\n",
    "print(lista)"
   ]
  },
  {
   "cell_type": "code",
   "execution_count": 5,
   "metadata": {},
   "outputs": [
    {
     "name": "stdout",
     "output_type": "stream",
     "text": [
      "3.141592653589793\n",
      "100.0\n"
     ]
    }
   ],
   "source": [
    "import math\n",
    "print(math.pi) #numero π\n",
    "print (math.sqrt(10000)) #la raiz cuadrada"
   ]
  },
  {
   "cell_type": "code",
   "execution_count": 7,
   "metadata": {},
   "outputs": [
    {
     "name": "stdout",
     "output_type": "stream",
     "text": [
      "Segundos desde Wed Dec 31 21:00:00 1969 = 1556196016.9444044\n",
      "Hora en el segundo 0: Wed Dec 31 21:00:00 1969\n",
      "Hora local: Thu Apr 25 09:40:16 2019\n"
     ]
    }
   ],
   "source": [
    "\n",
    "import time\n",
    "seconds = time.time()\n",
    "print(\"Segundos desde Wed Dec 31 21:00:00 1969 =\", seconds)\t\n",
    "local_time = time.ctime(0)\n",
    "print(\"Hora en el segundo 0:\", local_time)\n",
    "local_time = time.ctime(seconds)\n",
    "print(\"Hora local:\", local_time)"
   ]
  },
  {
   "cell_type": "code",
   "execution_count": null,
   "metadata": {},
   "outputs": [],
   "source": []
  }
 ],
 "metadata": {
  "kernelspec": {
   "display_name": "Python 3",
   "language": "python",
   "name": "python3"
  },
  "language_info": {
   "codemirror_mode": {
    "name": "ipython",
    "version": 3
   },
   "file_extension": ".py",
   "mimetype": "text/x-python",
   "name": "python",
   "nbconvert_exporter": "python",
   "pygments_lexer": "ipython3",
   "version": "3.6.7"
  }
 },
 "nbformat": 4,
 "nbformat_minor": 2
}
